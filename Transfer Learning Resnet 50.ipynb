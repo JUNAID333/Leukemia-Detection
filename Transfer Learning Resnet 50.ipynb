{
 "cells": [
  {
   "cell_type": "markdown",
   "metadata": {},
   "source": []
  },
  {
   "cell_type": "markdown",
   "metadata": {},
   "source": []
  },
  {
   "cell_type": "code",
   "execution_count": 1,
   "metadata": {},
   "outputs": [],
   "source": [
    "# import the libraries as shown below\n",
    "\n",
    "from tensorflow.keras.layers import Input, Lambda, Dense, Flatten\n",
    "from tensorflow.keras.models import Model\n",
    "from tensorflow.keras.applications.resnet50 import ResNet50\n",
    "from tensorflow.keras.applications.resnet50 import preprocess_input\n",
    "from tensorflow.keras.preprocessing import image\n",
    "from tensorflow.keras.preprocessing.image import ImageDataGenerator,load_img\n",
    "from tensorflow.keras.models import Sequential\n",
    "import numpy as np\n",
    "from glob import glob\n",
    "import matplotlib.pyplot as plt"
   ]
  },
  {
   "cell_type": "code",
   "execution_count": 2,
   "metadata": {},
   "outputs": [],
   "source": [
    "# re-size all the images to this\n",
    "IMAGE_SIZE = [224, 224]\n",
    "\n",
    "train_path = 'Datasets/Datasets/train'\n",
    "valid_path = 'Datasets/Datasets/test'\n"
   ]
  },
  {
   "cell_type": "code",
   "execution_count": 3,
   "metadata": {},
   "outputs": [],
   "source": [
    "\n",
    "resnet = ResNet50(input_shape=IMAGE_SIZE + [3], weights='imagenet', include_top=False)\n",
    "\n",
    "\n"
   ]
  },
  {
   "cell_type": "code",
   "execution_count": 5,
   "metadata": {},
   "outputs": [],
   "source": [
    "# don't train existing weights\n",
    "count = 0\n",
    "for layer in resnet.layers:\n",
    "    layer.trainable = False\n",
    "    count += 1"
   ]
  },
  {
   "cell_type": "code",
   "execution_count": 6,
   "metadata": {},
   "outputs": [
    {
     "data": {
      "text/plain": [
       "175"
      ]
     },
     "execution_count": 6,
     "metadata": {},
     "output_type": "execute_result"
    }
   ],
   "source": [
    "count"
   ]
  },
  {
   "cell_type": "code",
   "execution_count": 5,
   "metadata": {},
   "outputs": [],
   "source": [
    "  # useful for getting number of output classes\n",
    "folders = glob('Datasets/Datasets/train/*')"
   ]
  },
  {
   "cell_type": "code",
   "execution_count": 6,
   "metadata": {},
   "outputs": [
    {
     "data": {
      "text/plain": [
       "['Datasets/Datasets/train\\\\Lymphocytes',\n",
       " 'Datasets/Datasets/train\\\\Promyelocytes',\n",
       " 'Datasets/Datasets/train\\\\Segmented Neutrophils']"
      ]
     },
     "execution_count": 6,
     "metadata": {},
     "output_type": "execute_result"
    }
   ],
   "source": [
    "folders"
   ]
  },
  {
   "cell_type": "code",
   "execution_count": 7,
   "metadata": {},
   "outputs": [],
   "source": [
    "# our layers - you can add more if you want\n",
    "x = Flatten()(resnet.output)"
   ]
  },
  {
   "cell_type": "code",
   "execution_count": 8,
   "metadata": {},
   "outputs": [],
   "source": [
    "prediction = Dense(len(folders), activation='softmax')(x)\n",
    "\n",
    "# create a model object\n",
    "model = Model(inputs=resnet.input, outputs=prediction)"
   ]
  },
  {
   "cell_type": "code",
   "execution_count": 9,
   "metadata": {},
   "outputs": [
    {
     "name": "stdout",
     "output_type": "stream",
     "text": [
      "Model: \"model\"\n",
      "__________________________________________________________________________________________________\n",
      " Layer (type)                   Output Shape         Param #     Connected to                     \n",
      "==================================================================================================\n",
      " input_1 (InputLayer)           [(None, 224, 224, 3  0           []                               \n",
      "                                )]                                                                \n",
      "                                                                                                  \n",
      " conv1_pad (ZeroPadding2D)      (None, 230, 230, 3)  0           ['input_1[0][0]']                \n",
      "                                                                                                  \n",
      " conv1_conv (Conv2D)            (None, 112, 112, 64  9472        ['conv1_pad[0][0]']              \n",
      "                                )                                                                 \n",
      "                                                                                                  \n",
      " conv1_bn (BatchNormalization)  (None, 112, 112, 64  256         ['conv1_conv[0][0]']             \n",
      "                                )                                                                 \n",
      "                                                                                                  \n",
      " conv1_relu (Activation)        (None, 112, 112, 64  0           ['conv1_bn[0][0]']               \n",
      "                                )                                                                 \n",
      "                                                                                                  \n",
      " pool1_pad (ZeroPadding2D)      (None, 114, 114, 64  0           ['conv1_relu[0][0]']             \n",
      "                                )                                                                 \n",
      "                                                                                                  \n",
      " pool1_pool (MaxPooling2D)      (None, 56, 56, 64)   0           ['pool1_pad[0][0]']              \n",
      "                                                                                                  \n",
      " conv2_block1_1_conv (Conv2D)   (None, 56, 56, 64)   4160        ['pool1_pool[0][0]']             \n",
      "                                                                                                  \n",
      " conv2_block1_1_bn (BatchNormal  (None, 56, 56, 64)  256         ['conv2_block1_1_conv[0][0]']    \n",
      " ization)                                                                                         \n",
      "                                                                                                  \n",
      " conv2_block1_1_relu (Activatio  (None, 56, 56, 64)  0           ['conv2_block1_1_bn[0][0]']      \n",
      " n)                                                                                               \n",
      "                                                                                                  \n",
      " conv2_block1_2_conv (Conv2D)   (None, 56, 56, 64)   36928       ['conv2_block1_1_relu[0][0]']    \n",
      "                                                                                                  \n",
      " conv2_block1_2_bn (BatchNormal  (None, 56, 56, 64)  256         ['conv2_block1_2_conv[0][0]']    \n",
      " ization)                                                                                         \n",
      "                                                                                                  \n",
      " conv2_block1_2_relu (Activatio  (None, 56, 56, 64)  0           ['conv2_block1_2_bn[0][0]']      \n",
      " n)                                                                                               \n",
      "                                                                                                  \n",
      " conv2_block1_0_conv (Conv2D)   (None, 56, 56, 256)  16640       ['pool1_pool[0][0]']             \n",
      "                                                                                                  \n",
      " conv2_block1_3_conv (Conv2D)   (None, 56, 56, 256)  16640       ['conv2_block1_2_relu[0][0]']    \n",
      "                                                                                                  \n",
      " conv2_block1_0_bn (BatchNormal  (None, 56, 56, 256)  1024       ['conv2_block1_0_conv[0][0]']    \n",
      " ization)                                                                                         \n",
      "                                                                                                  \n",
      " conv2_block1_3_bn (BatchNormal  (None, 56, 56, 256)  1024       ['conv2_block1_3_conv[0][0]']    \n",
      " ization)                                                                                         \n",
      "                                                                                                  \n",
      " conv2_block1_add (Add)         (None, 56, 56, 256)  0           ['conv2_block1_0_bn[0][0]',      \n",
      "                                                                  'conv2_block1_3_bn[0][0]']      \n",
      "                                                                                                  \n",
      " conv2_block1_out (Activation)  (None, 56, 56, 256)  0           ['conv2_block1_add[0][0]']       \n",
      "                                                                                                  \n",
      " conv2_block2_1_conv (Conv2D)   (None, 56, 56, 64)   16448       ['conv2_block1_out[0][0]']       \n",
      "                                                                                                  \n",
      " conv2_block2_1_bn (BatchNormal  (None, 56, 56, 64)  256         ['conv2_block2_1_conv[0][0]']    \n",
      " ization)                                                                                         \n",
      "                                                                                                  \n",
      " conv2_block2_1_relu (Activatio  (None, 56, 56, 64)  0           ['conv2_block2_1_bn[0][0]']      \n",
      " n)                                                                                               \n",
      "                                                                                                  \n",
      " conv2_block2_2_conv (Conv2D)   (None, 56, 56, 64)   36928       ['conv2_block2_1_relu[0][0]']    \n",
      "                                                                                                  \n",
      " conv2_block2_2_bn (BatchNormal  (None, 56, 56, 64)  256         ['conv2_block2_2_conv[0][0]']    \n",
      " ization)                                                                                         \n",
      "                                                                                                  \n",
      " conv2_block2_2_relu (Activatio  (None, 56, 56, 64)  0           ['conv2_block2_2_bn[0][0]']      \n",
      " n)                                                                                               \n",
      "                                                                                                  \n",
      " conv2_block2_3_conv (Conv2D)   (None, 56, 56, 256)  16640       ['conv2_block2_2_relu[0][0]']    \n",
      "                                                                                                  \n",
      " conv2_block2_3_bn (BatchNormal  (None, 56, 56, 256)  1024       ['conv2_block2_3_conv[0][0]']    \n",
      " ization)                                                                                         \n",
      "                                                                                                  \n",
      " conv2_block2_add (Add)         (None, 56, 56, 256)  0           ['conv2_block1_out[0][0]',       \n",
      "                                                                  'conv2_block2_3_bn[0][0]']      \n",
      "                                                                                                  \n",
      " conv2_block2_out (Activation)  (None, 56, 56, 256)  0           ['conv2_block2_add[0][0]']       \n",
      "                                                                                                  \n",
      " conv2_block3_1_conv (Conv2D)   (None, 56, 56, 64)   16448       ['conv2_block2_out[0][0]']       \n",
      "                                                                                                  \n",
      " conv2_block3_1_bn (BatchNormal  (None, 56, 56, 64)  256         ['conv2_block3_1_conv[0][0]']    \n",
      " ization)                                                                                         \n",
      "                                                                                                  \n",
      " conv2_block3_1_relu (Activatio  (None, 56, 56, 64)  0           ['conv2_block3_1_bn[0][0]']      \n",
      " n)                                                                                               \n",
      "                                                                                                  \n",
      " conv2_block3_2_conv (Conv2D)   (None, 56, 56, 64)   36928       ['conv2_block3_1_relu[0][0]']    \n",
      "                                                                                                  \n",
      " conv2_block3_2_bn (BatchNormal  (None, 56, 56, 64)  256         ['conv2_block3_2_conv[0][0]']    \n",
      " ization)                                                                                         \n",
      "                                                                                                  \n",
      " conv2_block3_2_relu (Activatio  (None, 56, 56, 64)  0           ['conv2_block3_2_bn[0][0]']      \n",
      " n)                                                                                               \n",
      "                                                                                                  \n",
      " conv2_block3_3_conv (Conv2D)   (None, 56, 56, 256)  16640       ['conv2_block3_2_relu[0][0]']    \n",
      "                                                                                                  \n",
      " conv2_block3_3_bn (BatchNormal  (None, 56, 56, 256)  1024       ['conv2_block3_3_conv[0][0]']    \n",
      " ization)                                                                                         \n",
      "                                                                                                  \n",
      " conv2_block3_add (Add)         (None, 56, 56, 256)  0           ['conv2_block2_out[0][0]',       \n",
      "                                                                  'conv2_block3_3_bn[0][0]']      \n",
      "                                                                                                  \n",
      " conv2_block3_out (Activation)  (None, 56, 56, 256)  0           ['conv2_block3_add[0][0]']       \n",
      "                                                                                                  \n",
      " conv3_block1_1_conv (Conv2D)   (None, 28, 28, 128)  32896       ['conv2_block3_out[0][0]']       \n",
      "                                                                                                  \n",
      " conv3_block1_1_bn (BatchNormal  (None, 28, 28, 128)  512        ['conv3_block1_1_conv[0][0]']    \n",
      " ization)                                                                                         \n",
      "                                                                                                  \n",
      " conv3_block1_1_relu (Activatio  (None, 28, 28, 128)  0          ['conv3_block1_1_bn[0][0]']      \n",
      " n)                                                                                               \n",
      "                                                                                                  \n",
      " conv3_block1_2_conv (Conv2D)   (None, 28, 28, 128)  147584      ['conv3_block1_1_relu[0][0]']    \n",
      "                                                                                                  \n",
      " conv3_block1_2_bn (BatchNormal  (None, 28, 28, 128)  512        ['conv3_block1_2_conv[0][0]']    \n",
      " ization)                                                                                         \n",
      "                                                                                                  \n",
      " conv3_block1_2_relu (Activatio  (None, 28, 28, 128)  0          ['conv3_block1_2_bn[0][0]']      \n",
      " n)                                                                                               \n",
      "                                                                                                  \n",
      " conv3_block1_0_conv (Conv2D)   (None, 28, 28, 512)  131584      ['conv2_block3_out[0][0]']       \n",
      "                                                                                                  \n",
      " conv3_block1_3_conv (Conv2D)   (None, 28, 28, 512)  66048       ['conv3_block1_2_relu[0][0]']    \n",
      "                                                                                                  \n",
      " conv3_block1_0_bn (BatchNormal  (None, 28, 28, 512)  2048       ['conv3_block1_0_conv[0][0]']    \n",
      " ization)                                                                                         \n",
      "                                                                                                  \n",
      " conv3_block1_3_bn (BatchNormal  (None, 28, 28, 512)  2048       ['conv3_block1_3_conv[0][0]']    \n",
      " ization)                                                                                         \n",
      "                                                                                                  \n",
      " conv3_block1_add (Add)         (None, 28, 28, 512)  0           ['conv3_block1_0_bn[0][0]',      \n",
      "                                                                  'conv3_block1_3_bn[0][0]']      \n",
      "                                                                                                  \n",
      " conv3_block1_out (Activation)  (None, 28, 28, 512)  0           ['conv3_block1_add[0][0]']       \n",
      "                                                                                                  \n",
      " conv3_block2_1_conv (Conv2D)   (None, 28, 28, 128)  65664       ['conv3_block1_out[0][0]']       \n",
      "                                                                                                  \n",
      " conv3_block2_1_bn (BatchNormal  (None, 28, 28, 128)  512        ['conv3_block2_1_conv[0][0]']    \n",
      " ization)                                                                                         \n",
      "                                                                                                  \n",
      " conv3_block2_1_relu (Activatio  (None, 28, 28, 128)  0          ['conv3_block2_1_bn[0][0]']      \n",
      " n)                                                                                               \n",
      "                                                                                                  \n",
      " conv3_block2_2_conv (Conv2D)   (None, 28, 28, 128)  147584      ['conv3_block2_1_relu[0][0]']    \n",
      "                                                                                                  \n",
      " conv3_block2_2_bn (BatchNormal  (None, 28, 28, 128)  512        ['conv3_block2_2_conv[0][0]']    \n",
      " ization)                                                                                         \n",
      "                                                                                                  \n",
      " conv3_block2_2_relu (Activatio  (None, 28, 28, 128)  0          ['conv3_block2_2_bn[0][0]']      \n",
      " n)                                                                                               \n",
      "                                                                                                  \n",
      " conv3_block2_3_conv (Conv2D)   (None, 28, 28, 512)  66048       ['conv3_block2_2_relu[0][0]']    \n",
      "                                                                                                  \n",
      " conv3_block2_3_bn (BatchNormal  (None, 28, 28, 512)  2048       ['conv3_block2_3_conv[0][0]']    \n",
      " ization)                                                                                         \n",
      "                                                                                                  \n",
      " conv3_block2_add (Add)         (None, 28, 28, 512)  0           ['conv3_block1_out[0][0]',       \n",
      "                                                                  'conv3_block2_3_bn[0][0]']      \n",
      "                                                                                                  \n",
      " conv3_block2_out (Activation)  (None, 28, 28, 512)  0           ['conv3_block2_add[0][0]']       \n",
      "                                                                                                  \n",
      " conv3_block3_1_conv (Conv2D)   (None, 28, 28, 128)  65664       ['conv3_block2_out[0][0]']       \n",
      "                                                                                                  \n",
      " conv3_block3_1_bn (BatchNormal  (None, 28, 28, 128)  512        ['conv3_block3_1_conv[0][0]']    \n",
      " ization)                                                                                         \n",
      "                                                                                                  \n",
      " conv3_block3_1_relu (Activatio  (None, 28, 28, 128)  0          ['conv3_block3_1_bn[0][0]']      \n",
      " n)                                                                                               \n",
      "                                                                                                  \n",
      " conv3_block3_2_conv (Conv2D)   (None, 28, 28, 128)  147584      ['conv3_block3_1_relu[0][0]']    \n",
      "                                                                                                  \n",
      " conv3_block3_2_bn (BatchNormal  (None, 28, 28, 128)  512        ['conv3_block3_2_conv[0][0]']    \n",
      " ization)                                                                                         \n",
      "                                                                                                  \n",
      " conv3_block3_2_relu (Activatio  (None, 28, 28, 128)  0          ['conv3_block3_2_bn[0][0]']      \n",
      " n)                                                                                               \n",
      "                                                                                                  \n",
      " conv3_block3_3_conv (Conv2D)   (None, 28, 28, 512)  66048       ['conv3_block3_2_relu[0][0]']    \n",
      "                                                                                                  \n",
      " conv3_block3_3_bn (BatchNormal  (None, 28, 28, 512)  2048       ['conv3_block3_3_conv[0][0]']    \n",
      " ization)                                                                                         \n",
      "                                                                                                  \n",
      " conv3_block3_add (Add)         (None, 28, 28, 512)  0           ['conv3_block2_out[0][0]',       \n",
      "                                                                  'conv3_block3_3_bn[0][0]']      \n",
      "                                                                                                  \n",
      " conv3_block3_out (Activation)  (None, 28, 28, 512)  0           ['conv3_block3_add[0][0]']       \n",
      "                                                                                                  \n",
      " conv3_block4_1_conv (Conv2D)   (None, 28, 28, 128)  65664       ['conv3_block3_out[0][0]']       \n",
      "                                                                                                  \n",
      " conv3_block4_1_bn (BatchNormal  (None, 28, 28, 128)  512        ['conv3_block4_1_conv[0][0]']    \n",
      " ization)                                                                                         \n",
      "                                                                                                  \n",
      " conv3_block4_1_relu (Activatio  (None, 28, 28, 128)  0          ['conv3_block4_1_bn[0][0]']      \n",
      " n)                                                                                               \n",
      "                                                                                                  \n",
      " conv3_block4_2_conv (Conv2D)   (None, 28, 28, 128)  147584      ['conv3_block4_1_relu[0][0]']    \n",
      "                                                                                                  \n",
      " conv3_block4_2_bn (BatchNormal  (None, 28, 28, 128)  512        ['conv3_block4_2_conv[0][0]']    \n",
      " ization)                                                                                         \n",
      "                                                                                                  \n",
      " conv3_block4_2_relu (Activatio  (None, 28, 28, 128)  0          ['conv3_block4_2_bn[0][0]']      \n",
      " n)                                                                                               \n",
      "                                                                                                  \n",
      " conv3_block4_3_conv (Conv2D)   (None, 28, 28, 512)  66048       ['conv3_block4_2_relu[0][0]']    \n",
      "                                                                                                  \n",
      " conv3_block4_3_bn (BatchNormal  (None, 28, 28, 512)  2048       ['conv3_block4_3_conv[0][0]']    \n",
      " ization)                                                                                         \n",
      "                                                                                                  \n",
      " conv3_block4_add (Add)         (None, 28, 28, 512)  0           ['conv3_block3_out[0][0]',       \n",
      "                                                                  'conv3_block4_3_bn[0][0]']      \n",
      "                                                                                                  \n",
      " conv3_block4_out (Activation)  (None, 28, 28, 512)  0           ['conv3_block4_add[0][0]']       \n",
      "                                                                                                  \n",
      " conv4_block1_1_conv (Conv2D)   (None, 14, 14, 256)  131328      ['conv3_block4_out[0][0]']       \n",
      "                                                                                                  \n",
      " conv4_block1_1_bn (BatchNormal  (None, 14, 14, 256)  1024       ['conv4_block1_1_conv[0][0]']    \n",
      " ization)                                                                                         \n",
      "                                                                                                  \n",
      " conv4_block1_1_relu (Activatio  (None, 14, 14, 256)  0          ['conv4_block1_1_bn[0][0]']      \n",
      " n)                                                                                               \n",
      "                                                                                                  \n",
      " conv4_block1_2_conv (Conv2D)   (None, 14, 14, 256)  590080      ['conv4_block1_1_relu[0][0]']    \n",
      "                                                                                                  \n",
      " conv4_block1_2_bn (BatchNormal  (None, 14, 14, 256)  1024       ['conv4_block1_2_conv[0][0]']    \n",
      " ization)                                                                                         \n",
      "                                                                                                  \n",
      " conv4_block1_2_relu (Activatio  (None, 14, 14, 256)  0          ['conv4_block1_2_bn[0][0]']      \n",
      " n)                                                                                               \n",
      "                                                                                                  \n",
      " conv4_block1_0_conv (Conv2D)   (None, 14, 14, 1024  525312      ['conv3_block4_out[0][0]']       \n",
      "                                )                                                                 \n",
      "                                                                                                  \n",
      " conv4_block1_3_conv (Conv2D)   (None, 14, 14, 1024  263168      ['conv4_block1_2_relu[0][0]']    \n",
      "                                )                                                                 \n",
      "                                                                                                  \n",
      " conv4_block1_0_bn (BatchNormal  (None, 14, 14, 1024  4096       ['conv4_block1_0_conv[0][0]']    \n",
      " ization)                       )                                                                 \n",
      "                                                                                                  \n",
      " conv4_block1_3_bn (BatchNormal  (None, 14, 14, 1024  4096       ['conv4_block1_3_conv[0][0]']    \n",
      " ization)                       )                                                                 \n",
      "                                                                                                  \n",
      " conv4_block1_add (Add)         (None, 14, 14, 1024  0           ['conv4_block1_0_bn[0][0]',      \n",
      "                                )                                 'conv4_block1_3_bn[0][0]']      \n",
      "                                                                                                  \n",
      " conv4_block1_out (Activation)  (None, 14, 14, 1024  0           ['conv4_block1_add[0][0]']       \n",
      "                                )                                                                 \n",
      "                                                                                                  \n",
      " conv4_block2_1_conv (Conv2D)   (None, 14, 14, 256)  262400      ['conv4_block1_out[0][0]']       \n",
      "                                                                                                  \n",
      " conv4_block2_1_bn (BatchNormal  (None, 14, 14, 256)  1024       ['conv4_block2_1_conv[0][0]']    \n",
      " ization)                                                                                         \n",
      "                                                                                                  \n",
      " conv4_block2_1_relu (Activatio  (None, 14, 14, 256)  0          ['conv4_block2_1_bn[0][0]']      \n",
      " n)                                                                                               \n",
      "                                                                                                  \n",
      " conv4_block2_2_conv (Conv2D)   (None, 14, 14, 256)  590080      ['conv4_block2_1_relu[0][0]']    \n",
      "                                                                                                  \n",
      " conv4_block2_2_bn (BatchNormal  (None, 14, 14, 256)  1024       ['conv4_block2_2_conv[0][0]']    \n",
      " ization)                                                                                         \n",
      "                                                                                                  \n",
      " conv4_block2_2_relu (Activatio  (None, 14, 14, 256)  0          ['conv4_block2_2_bn[0][0]']      \n",
      " n)                                                                                               \n",
      "                                                                                                  \n",
      " conv4_block2_3_conv (Conv2D)   (None, 14, 14, 1024  263168      ['conv4_block2_2_relu[0][0]']    \n",
      "                                )                                                                 \n",
      "                                                                                                  \n",
      " conv4_block2_3_bn (BatchNormal  (None, 14, 14, 1024  4096       ['conv4_block2_3_conv[0][0]']    \n",
      " ization)                       )                                                                 \n",
      "                                                                                                  \n",
      " conv4_block2_add (Add)         (None, 14, 14, 1024  0           ['conv4_block1_out[0][0]',       \n",
      "                                )                                 'conv4_block2_3_bn[0][0]']      \n",
      "                                                                                                  \n",
      " conv4_block2_out (Activation)  (None, 14, 14, 1024  0           ['conv4_block2_add[0][0]']       \n",
      "                                )                                                                 \n",
      "                                                                                                  \n",
      " conv4_block3_1_conv (Conv2D)   (None, 14, 14, 256)  262400      ['conv4_block2_out[0][0]']       \n",
      "                                                                                                  \n",
      " conv4_block3_1_bn (BatchNormal  (None, 14, 14, 256)  1024       ['conv4_block3_1_conv[0][0]']    \n",
      " ization)                                                                                         \n",
      "                                                                                                  \n",
      " conv4_block3_1_relu (Activatio  (None, 14, 14, 256)  0          ['conv4_block3_1_bn[0][0]']      \n",
      " n)                                                                                               \n",
      "                                                                                                  \n",
      " conv4_block3_2_conv (Conv2D)   (None, 14, 14, 256)  590080      ['conv4_block3_1_relu[0][0]']    \n",
      "                                                                                                  \n",
      " conv4_block3_2_bn (BatchNormal  (None, 14, 14, 256)  1024       ['conv4_block3_2_conv[0][0]']    \n",
      " ization)                                                                                         \n",
      "                                                                                                  \n",
      " conv4_block3_2_relu (Activatio  (None, 14, 14, 256)  0          ['conv4_block3_2_bn[0][0]']      \n",
      " n)                                                                                               \n",
      "                                                                                                  \n",
      " conv4_block3_3_conv (Conv2D)   (None, 14, 14, 1024  263168      ['conv4_block3_2_relu[0][0]']    \n",
      "                                )                                                                 \n",
      "                                                                                                  \n",
      " conv4_block3_3_bn (BatchNormal  (None, 14, 14, 1024  4096       ['conv4_block3_3_conv[0][0]']    \n",
      " ization)                       )                                                                 \n",
      "                                                                                                  \n",
      " conv4_block3_add (Add)         (None, 14, 14, 1024  0           ['conv4_block2_out[0][0]',       \n",
      "                                )                                 'conv4_block3_3_bn[0][0]']      \n",
      "                                                                                                  \n",
      " conv4_block3_out (Activation)  (None, 14, 14, 1024  0           ['conv4_block3_add[0][0]']       \n",
      "                                )                                                                 \n",
      "                                                                                                  \n",
      " conv4_block4_1_conv (Conv2D)   (None, 14, 14, 256)  262400      ['conv4_block3_out[0][0]']       \n",
      "                                                                                                  \n",
      " conv4_block4_1_bn (BatchNormal  (None, 14, 14, 256)  1024       ['conv4_block4_1_conv[0][0]']    \n",
      " ization)                                                                                         \n",
      "                                                                                                  \n",
      " conv4_block4_1_relu (Activatio  (None, 14, 14, 256)  0          ['conv4_block4_1_bn[0][0]']      \n",
      " n)                                                                                               \n",
      "                                                                                                  \n",
      " conv4_block4_2_conv (Conv2D)   (None, 14, 14, 256)  590080      ['conv4_block4_1_relu[0][0]']    \n",
      "                                                                                                  \n",
      " conv4_block4_2_bn (BatchNormal  (None, 14, 14, 256)  1024       ['conv4_block4_2_conv[0][0]']    \n",
      " ization)                                                                                         \n",
      "                                                                                                  \n",
      " conv4_block4_2_relu (Activatio  (None, 14, 14, 256)  0          ['conv4_block4_2_bn[0][0]']      \n",
      " n)                                                                                               \n",
      "                                                                                                  \n",
      " conv4_block4_3_conv (Conv2D)   (None, 14, 14, 1024  263168      ['conv4_block4_2_relu[0][0]']    \n",
      "                                )                                                                 \n",
      "                                                                                                  \n",
      " conv4_block4_3_bn (BatchNormal  (None, 14, 14, 1024  4096       ['conv4_block4_3_conv[0][0]']    \n",
      " ization)                       )                                                                 \n",
      "                                                                                                  \n",
      " conv4_block4_add (Add)         (None, 14, 14, 1024  0           ['conv4_block3_out[0][0]',       \n",
      "                                )                                 'conv4_block4_3_bn[0][0]']      \n",
      "                                                                                                  \n",
      " conv4_block4_out (Activation)  (None, 14, 14, 1024  0           ['conv4_block4_add[0][0]']       \n",
      "                                )                                                                 \n",
      "                                                                                                  \n",
      " conv4_block5_1_conv (Conv2D)   (None, 14, 14, 256)  262400      ['conv4_block4_out[0][0]']       \n",
      "                                                                                                  \n",
      " conv4_block5_1_bn (BatchNormal  (None, 14, 14, 256)  1024       ['conv4_block5_1_conv[0][0]']    \n",
      " ization)                                                                                         \n",
      "                                                                                                  \n",
      " conv4_block5_1_relu (Activatio  (None, 14, 14, 256)  0          ['conv4_block5_1_bn[0][0]']      \n",
      " n)                                                                                               \n",
      "                                                                                                  \n",
      " conv4_block5_2_conv (Conv2D)   (None, 14, 14, 256)  590080      ['conv4_block5_1_relu[0][0]']    \n",
      "                                                                                                  \n",
      " conv4_block5_2_bn (BatchNormal  (None, 14, 14, 256)  1024       ['conv4_block5_2_conv[0][0]']    \n",
      " ization)                                                                                         \n",
      "                                                                                                  \n",
      " conv4_block5_2_relu (Activatio  (None, 14, 14, 256)  0          ['conv4_block5_2_bn[0][0]']      \n",
      " n)                                                                                               \n",
      "                                                                                                  \n",
      " conv4_block5_3_conv (Conv2D)   (None, 14, 14, 1024  263168      ['conv4_block5_2_relu[0][0]']    \n",
      "                                )                                                                 \n",
      "                                                                                                  \n",
      " conv4_block5_3_bn (BatchNormal  (None, 14, 14, 1024  4096       ['conv4_block5_3_conv[0][0]']    \n",
      " ization)                       )                                                                 \n",
      "                                                                                                  \n",
      " conv4_block5_add (Add)         (None, 14, 14, 1024  0           ['conv4_block4_out[0][0]',       \n",
      "                                )                                 'conv4_block5_3_bn[0][0]']      \n",
      "                                                                                                  \n",
      " conv4_block5_out (Activation)  (None, 14, 14, 1024  0           ['conv4_block5_add[0][0]']       \n",
      "                                )                                                                 \n",
      "                                                                                                  \n",
      " conv4_block6_1_conv (Conv2D)   (None, 14, 14, 256)  262400      ['conv4_block5_out[0][0]']       \n",
      "                                                                                                  \n",
      " conv4_block6_1_bn (BatchNormal  (None, 14, 14, 256)  1024       ['conv4_block6_1_conv[0][0]']    \n",
      " ization)                                                                                         \n",
      "                                                                                                  \n",
      " conv4_block6_1_relu (Activatio  (None, 14, 14, 256)  0          ['conv4_block6_1_bn[0][0]']      \n",
      " n)                                                                                               \n",
      "                                                                                                  \n",
      " conv4_block6_2_conv (Conv2D)   (None, 14, 14, 256)  590080      ['conv4_block6_1_relu[0][0]']    \n",
      "                                                                                                  \n",
      " conv4_block6_2_bn (BatchNormal  (None, 14, 14, 256)  1024       ['conv4_block6_2_conv[0][0]']    \n",
      " ization)                                                                                         \n",
      "                                                                                                  \n",
      " conv4_block6_2_relu (Activatio  (None, 14, 14, 256)  0          ['conv4_block6_2_bn[0][0]']      \n",
      " n)                                                                                               \n",
      "                                                                                                  \n",
      " conv4_block6_3_conv (Conv2D)   (None, 14, 14, 1024  263168      ['conv4_block6_2_relu[0][0]']    \n",
      "                                )                                                                 \n",
      "                                                                                                  \n",
      " conv4_block6_3_bn (BatchNormal  (None, 14, 14, 1024  4096       ['conv4_block6_3_conv[0][0]']    \n",
      " ization)                       )                                                                 \n",
      "                                                                                                  \n",
      " conv4_block6_add (Add)         (None, 14, 14, 1024  0           ['conv4_block5_out[0][0]',       \n",
      "                                )                                 'conv4_block6_3_bn[0][0]']      \n",
      "                                                                                                  \n",
      " conv4_block6_out (Activation)  (None, 14, 14, 1024  0           ['conv4_block6_add[0][0]']       \n",
      "                                )                                                                 \n",
      "                                                                                                  \n",
      " conv5_block1_1_conv (Conv2D)   (None, 7, 7, 512)    524800      ['conv4_block6_out[0][0]']       \n",
      "                                                                                                  \n",
      " conv5_block1_1_bn (BatchNormal  (None, 7, 7, 512)   2048        ['conv5_block1_1_conv[0][0]']    \n",
      " ization)                                                                                         \n",
      "                                                                                                  \n",
      " conv5_block1_1_relu (Activatio  (None, 7, 7, 512)   0           ['conv5_block1_1_bn[0][0]']      \n",
      " n)                                                                                               \n",
      "                                                                                                  \n",
      " conv5_block1_2_conv (Conv2D)   (None, 7, 7, 512)    2359808     ['conv5_block1_1_relu[0][0]']    \n",
      "                                                                                                  \n",
      " conv5_block1_2_bn (BatchNormal  (None, 7, 7, 512)   2048        ['conv5_block1_2_conv[0][0]']    \n",
      " ization)                                                                                         \n",
      "                                                                                                  \n",
      " conv5_block1_2_relu (Activatio  (None, 7, 7, 512)   0           ['conv5_block1_2_bn[0][0]']      \n",
      " n)                                                                                               \n",
      "                                                                                                  \n",
      " conv5_block1_0_conv (Conv2D)   (None, 7, 7, 2048)   2099200     ['conv4_block6_out[0][0]']       \n",
      "                                                                                                  \n",
      " conv5_block1_3_conv (Conv2D)   (None, 7, 7, 2048)   1050624     ['conv5_block1_2_relu[0][0]']    \n",
      "                                                                                                  \n",
      " conv5_block1_0_bn (BatchNormal  (None, 7, 7, 2048)  8192        ['conv5_block1_0_conv[0][0]']    \n",
      " ization)                                                                                         \n",
      "                                                                                                  \n",
      " conv5_block1_3_bn (BatchNormal  (None, 7, 7, 2048)  8192        ['conv5_block1_3_conv[0][0]']    \n",
      " ization)                                                                                         \n",
      "                                                                                                  \n",
      " conv5_block1_add (Add)         (None, 7, 7, 2048)   0           ['conv5_block1_0_bn[0][0]',      \n",
      "                                                                  'conv5_block1_3_bn[0][0]']      \n",
      "                                                                                                  \n",
      " conv5_block1_out (Activation)  (None, 7, 7, 2048)   0           ['conv5_block1_add[0][0]']       \n",
      "                                                                                                  \n",
      " conv5_block2_1_conv (Conv2D)   (None, 7, 7, 512)    1049088     ['conv5_block1_out[0][0]']       \n",
      "                                                                                                  \n",
      " conv5_block2_1_bn (BatchNormal  (None, 7, 7, 512)   2048        ['conv5_block2_1_conv[0][0]']    \n",
      " ization)                                                                                         \n",
      "                                                                                                  \n",
      " conv5_block2_1_relu (Activatio  (None, 7, 7, 512)   0           ['conv5_block2_1_bn[0][0]']      \n",
      " n)                                                                                               \n",
      "                                                                                                  \n",
      " conv5_block2_2_conv (Conv2D)   (None, 7, 7, 512)    2359808     ['conv5_block2_1_relu[0][0]']    \n",
      "                                                                                                  \n",
      " conv5_block2_2_bn (BatchNormal  (None, 7, 7, 512)   2048        ['conv5_block2_2_conv[0][0]']    \n",
      " ization)                                                                                         \n",
      "                                                                                                  \n",
      " conv5_block2_2_relu (Activatio  (None, 7, 7, 512)   0           ['conv5_block2_2_bn[0][0]']      \n",
      " n)                                                                                               \n",
      "                                                                                                  \n",
      " conv5_block2_3_conv (Conv2D)   (None, 7, 7, 2048)   1050624     ['conv5_block2_2_relu[0][0]']    \n",
      "                                                                                                  \n",
      " conv5_block2_3_bn (BatchNormal  (None, 7, 7, 2048)  8192        ['conv5_block2_3_conv[0][0]']    \n",
      " ization)                                                                                         \n",
      "                                                                                                  \n",
      " conv5_block2_add (Add)         (None, 7, 7, 2048)   0           ['conv5_block1_out[0][0]',       \n",
      "                                                                  'conv5_block2_3_bn[0][0]']      \n",
      "                                                                                                  \n",
      " conv5_block2_out (Activation)  (None, 7, 7, 2048)   0           ['conv5_block2_add[0][0]']       \n",
      "                                                                                                  \n",
      " conv5_block3_1_conv (Conv2D)   (None, 7, 7, 512)    1049088     ['conv5_block2_out[0][0]']       \n",
      "                                                                                                  \n",
      " conv5_block3_1_bn (BatchNormal  (None, 7, 7, 512)   2048        ['conv5_block3_1_conv[0][0]']    \n",
      " ization)                                                                                         \n",
      "                                                                                                  \n",
      " conv5_block3_1_relu (Activatio  (None, 7, 7, 512)   0           ['conv5_block3_1_bn[0][0]']      \n",
      " n)                                                                                               \n",
      "                                                                                                  \n",
      " conv5_block3_2_conv (Conv2D)   (None, 7, 7, 512)    2359808     ['conv5_block3_1_relu[0][0]']    \n",
      "                                                                                                  \n",
      " conv5_block3_2_bn (BatchNormal  (None, 7, 7, 512)   2048        ['conv5_block3_2_conv[0][0]']    \n",
      " ization)                                                                                         \n",
      "                                                                                                  \n",
      " conv5_block3_2_relu (Activatio  (None, 7, 7, 512)   0           ['conv5_block3_2_bn[0][0]']      \n",
      " n)                                                                                               \n",
      "                                                                                                  \n",
      " conv5_block3_3_conv (Conv2D)   (None, 7, 7, 2048)   1050624     ['conv5_block3_2_relu[0][0]']    \n",
      "                                                                                                  \n",
      " conv5_block3_3_bn (BatchNormal  (None, 7, 7, 2048)  8192        ['conv5_block3_3_conv[0][0]']    \n",
      " ization)                                                                                         \n",
      "                                                                                                  \n",
      " conv5_block3_add (Add)         (None, 7, 7, 2048)   0           ['conv5_block2_out[0][0]',       \n",
      "                                                                  'conv5_block3_3_bn[0][0]']      \n",
      "                                                                                                  \n",
      " conv5_block3_out (Activation)  (None, 7, 7, 2048)   0           ['conv5_block3_add[0][0]']       \n",
      "                                                                                                  \n",
      " flatten (Flatten)              (None, 100352)       0           ['conv5_block3_out[0][0]']       \n",
      "                                                                                                  \n",
      " dense (Dense)                  (None, 3)            301059      ['flatten[0][0]']                \n",
      "                                                                                                  \n",
      "==================================================================================================\n",
      "Total params: 23,888,771\n",
      "Trainable params: 301,059\n",
      "Non-trainable params: 23,587,712\n",
      "__________________________________________________________________________________________________\n"
     ]
    }
   ],
   "source": [
    "\n",
    "# view the structure of the model\n",
    "model.summary()\n"
   ]
  },
  {
   "cell_type": "code",
   "execution_count": 10,
   "metadata": {},
   "outputs": [],
   "source": [
    "# tell the model what cost and optimization method to use\n",
    "model.compile(\n",
    "  loss='categorical_crossentropy',\n",
    "  optimizer='adam',\n",
    "  metrics=['accuracy']\n",
    ")\n"
   ]
  },
  {
   "cell_type": "code",
   "execution_count": 11,
   "metadata": {},
   "outputs": [],
   "source": [
    "# Use the Image Data Generator to import the images from the dataset\n",
    "from tensorflow.keras.preprocessing.image import ImageDataGenerator\n",
    "\n",
    "train_datagen = ImageDataGenerator(rescale = 1./255,\n",
    "                                   shear_range = 0.2,\n",
    "                                   zoom_range = 0.2,\n",
    "                                   horizontal_flip = True)\n",
    "\n",
    "test_datagen = ImageDataGenerator(rescale = 1./255)"
   ]
  },
  {
   "cell_type": "code",
   "execution_count": 12,
   "metadata": {},
   "outputs": [
    {
     "name": "stdout",
     "output_type": "stream",
     "text": [
      "Found 511 images belonging to 3 classes.\n"
     ]
    }
   ],
   "source": [
    "# Make sure you provide the same target size as initialied for the image size\n",
    "training_set = train_datagen.flow_from_directory('Datasets/Datasets/train',\n",
    "                                                 target_size = (224, 224),\n",
    "                                                 batch_size = 32,\n",
    "                                                 class_mode = 'categorical')"
   ]
  },
  {
   "cell_type": "code",
   "execution_count": 13,
   "metadata": {},
   "outputs": [
    {
     "name": "stdout",
     "output_type": "stream",
     "text": [
      "Found 37 images belonging to 3 classes.\n"
     ]
    }
   ],
   "source": [
    "test_set = test_datagen.flow_from_directory('Datasets/Datasets/test',\n",
    "                                            target_size = (224, 224),\n",
    "                                            batch_size = 32,\n",
    "                                            class_mode = 'categorical')"
   ]
  },
  {
   "cell_type": "code",
   "execution_count": 14,
   "metadata": {},
   "outputs": [
    {
     "name": "stderr",
     "output_type": "stream",
     "text": [
      "<ipython-input-14-69229fe26ea3>:3: UserWarning: `Model.fit_generator` is deprecated and will be removed in a future version. Please use `Model.fit`, which supports generators.\n",
      "  r = model.fit_generator(\n"
     ]
    },
    {
     "name": "stdout",
     "output_type": "stream",
     "text": [
      "Epoch 1/50\n",
      "16/16 [==============================] - 67s 4s/step - loss: 7.0150 - accuracy: 0.3718 - val_loss: 2.0991 - val_accuracy: 0.3243\n",
      "Epoch 2/50\n",
      "16/16 [==============================] - 59s 4s/step - loss: 3.2412 - accuracy: 0.3777 - val_loss: 1.9412 - val_accuracy: 0.6216\n",
      "Epoch 3/50\n",
      "16/16 [==============================] - 59s 4s/step - loss: 1.6098 - accuracy: 0.4325 - val_loss: 1.0955 - val_accuracy: 0.4865\n",
      "Epoch 4/50\n",
      "16/16 [==============================] - 59s 4s/step - loss: 1.0142 - accuracy: 0.5108 - val_loss: 1.1076 - val_accuracy: 0.4595\n",
      "Epoch 5/50\n",
      "16/16 [==============================] - 59s 4s/step - loss: 0.8595 - accuracy: 0.6458 - val_loss: 0.5441 - val_accuracy: 0.8378\n",
      "Epoch 6/50\n",
      "16/16 [==============================] - 59s 4s/step - loss: 0.6768 - accuracy: 0.7221 - val_loss: 0.5361 - val_accuracy: 0.7838\n",
      "Epoch 7/50\n",
      "16/16 [==============================] - 57s 4s/step - loss: 0.8178 - accuracy: 0.6595 - val_loss: 0.4321 - val_accuracy: 0.9189\n",
      "Epoch 8/50\n",
      "16/16 [==============================] - 58s 4s/step - loss: 0.6431 - accuracy: 0.7358 - val_loss: 0.6896 - val_accuracy: 0.5405\n",
      "Epoch 9/50\n",
      "16/16 [==============================] - 58s 4s/step - loss: 0.5735 - accuracy: 0.8023 - val_loss: 0.4200 - val_accuracy: 0.9189\n",
      "Epoch 10/50\n",
      "16/16 [==============================] - 59s 4s/step - loss: 0.5606 - accuracy: 0.7632 - val_loss: 0.4029 - val_accuracy: 0.8378\n",
      "Epoch 11/50\n",
      "16/16 [==============================] - 59s 4s/step - loss: 0.5615 - accuracy: 0.7554 - val_loss: 0.4212 - val_accuracy: 0.8108\n",
      "Epoch 12/50\n",
      "16/16 [==============================] - 59s 4s/step - loss: 0.4745 - accuracy: 0.8317 - val_loss: 0.3112 - val_accuracy: 0.9730\n",
      "Epoch 13/50\n",
      "16/16 [==============================] - 59s 4s/step - loss: 0.4810 - accuracy: 0.8297 - val_loss: 0.3584 - val_accuracy: 0.9189\n",
      "Epoch 14/50\n",
      "16/16 [==============================] - 59s 4s/step - loss: 0.4991 - accuracy: 0.8102 - val_loss: 0.3882 - val_accuracy: 0.9189\n",
      "Epoch 15/50\n",
      "16/16 [==============================] - 59s 4s/step - loss: 0.4639 - accuracy: 0.8258 - val_loss: 0.2682 - val_accuracy: 0.9730\n",
      "Epoch 16/50\n",
      "16/16 [==============================] - 59s 4s/step - loss: 0.4838 - accuracy: 0.8180 - val_loss: 0.2745 - val_accuracy: 0.8919\n",
      "Epoch 17/50\n",
      "16/16 [==============================] - 59s 4s/step - loss: 0.6137 - accuracy: 0.7084 - val_loss: 0.6421 - val_accuracy: 0.8108\n",
      "Epoch 18/50\n",
      "16/16 [==============================] - 59s 4s/step - loss: 0.8219 - accuracy: 0.7065 - val_loss: 0.3786 - val_accuracy: 0.8649\n",
      "Epoch 19/50\n",
      "16/16 [==============================] - 59s 4s/step - loss: 0.6018 - accuracy: 0.7299 - val_loss: 0.2404 - val_accuracy: 0.9730\n",
      "Epoch 20/50\n",
      "16/16 [==============================] - 59s 4s/step - loss: 0.3808 - accuracy: 0.8611 - val_loss: 0.2123 - val_accuracy: 0.9189\n",
      "Epoch 21/50\n",
      "16/16 [==============================] - 59s 4s/step - loss: 0.4001 - accuracy: 0.8532 - val_loss: 0.4761 - val_accuracy: 0.8108\n",
      "Epoch 22/50\n",
      "16/16 [==============================] - 59s 4s/step - loss: 0.3991 - accuracy: 0.8630 - val_loss: 0.2407 - val_accuracy: 0.9189\n",
      "Epoch 23/50\n",
      "16/16 [==============================] - 59s 4s/step - loss: 0.3520 - accuracy: 0.9022 - val_loss: 0.1834 - val_accuracy: 0.9730\n",
      "Epoch 24/50\n",
      "16/16 [==============================] - 59s 4s/step - loss: 0.3321 - accuracy: 0.8787 - val_loss: 0.2143 - val_accuracy: 0.9459\n",
      "Epoch 25/50\n",
      "16/16 [==============================] - 59s 4s/step - loss: 0.3811 - accuracy: 0.8767 - val_loss: 0.1881 - val_accuracy: 0.9730\n",
      "Epoch 26/50\n",
      "16/16 [==============================] - 59s 4s/step - loss: 0.5631 - accuracy: 0.7593 - val_loss: 0.3551 - val_accuracy: 0.8108\n",
      "Epoch 27/50\n",
      "16/16 [==============================] - 58s 4s/step - loss: 0.4562 - accuracy: 0.7965 - val_loss: 0.2522 - val_accuracy: 0.8919\n",
      "Epoch 28/50\n",
      "16/16 [==============================] - 59s 4s/step - loss: 0.3618 - accuracy: 0.8552 - val_loss: 0.1567 - val_accuracy: 0.9730\n",
      "Epoch 29/50\n",
      "16/16 [==============================] - 59s 4s/step - loss: 0.2896 - accuracy: 0.8982 - val_loss: 0.1706 - val_accuracy: 0.9730\n",
      "Epoch 30/50\n",
      "16/16 [==============================] - 59s 4s/step - loss: 0.3698 - accuracy: 0.8708 - val_loss: 0.1615 - val_accuracy: 1.0000\n",
      "Epoch 31/50\n",
      "16/16 [==============================] - 59s 4s/step - loss: 0.3848 - accuracy: 0.8376 - val_loss: 0.3338 - val_accuracy: 0.8919\n",
      "Epoch 32/50\n",
      "16/16 [==============================] - 59s 4s/step - loss: 0.4109 - accuracy: 0.8023 - val_loss: 0.2486 - val_accuracy: 0.9189\n",
      "Epoch 33/50\n",
      "16/16 [==============================] - 59s 4s/step - loss: 0.3151 - accuracy: 0.8787 - val_loss: 0.2090 - val_accuracy: 0.8919\n",
      "Epoch 34/50\n",
      "16/16 [==============================] - 59s 4s/step - loss: 0.3107 - accuracy: 0.8787 - val_loss: 0.1483 - val_accuracy: 0.9730\n",
      "Epoch 35/50\n",
      "16/16 [==============================] - 59s 4s/step - loss: 0.3467 - accuracy: 0.8748 - val_loss: 0.3154 - val_accuracy: 0.8108\n",
      "Epoch 36/50\n",
      "16/16 [==============================] - 59s 4s/step - loss: 0.3902 - accuracy: 0.8317 - val_loss: 0.2794 - val_accuracy: 0.8108\n",
      "Epoch 37/50\n",
      "16/16 [==============================] - 59s 4s/step - loss: 0.3609 - accuracy: 0.8532 - val_loss: 0.2058 - val_accuracy: 0.9189\n",
      "Epoch 38/50\n",
      "16/16 [==============================] - 59s 4s/step - loss: 0.3740 - accuracy: 0.8493 - val_loss: 0.1270 - val_accuracy: 1.0000\n",
      "Epoch 39/50\n",
      "16/16 [==============================] - 59s 4s/step - loss: 0.2473 - accuracy: 0.9276 - val_loss: 0.1159 - val_accuracy: 0.9730\n",
      "Epoch 40/50\n",
      "16/16 [==============================] - 60s 4s/step - loss: 0.3530 - accuracy: 0.8630 - val_loss: 0.3245 - val_accuracy: 0.8378\n",
      "Epoch 41/50\n",
      "16/16 [==============================] - 59s 4s/step - loss: 0.3621 - accuracy: 0.8552 - val_loss: 0.1345 - val_accuracy: 0.9730\n",
      "Epoch 42/50\n",
      "16/16 [==============================] - 59s 4s/step - loss: 0.2466 - accuracy: 0.9237 - val_loss: 0.1629 - val_accuracy: 0.9189\n",
      "Epoch 43/50\n",
      "16/16 [==============================] - 59s 4s/step - loss: 0.2859 - accuracy: 0.8904 - val_loss: 0.1132 - val_accuracy: 0.9730\n",
      "Epoch 44/50\n",
      "16/16 [==============================] - 59s 4s/step - loss: 0.2872 - accuracy: 0.8982 - val_loss: 0.1673 - val_accuracy: 0.9189\n",
      "Epoch 45/50\n",
      "16/16 [==============================] - 59s 4s/step - loss: 0.2445 - accuracy: 0.9237 - val_loss: 0.1134 - val_accuracy: 0.9730\n",
      "Epoch 46/50\n",
      "16/16 [==============================] - 59s 4s/step - loss: 0.2351 - accuracy: 0.9237 - val_loss: 0.1080 - val_accuracy: 0.9730\n",
      "Epoch 47/50\n",
      "16/16 [==============================] - 59s 4s/step - loss: 0.2560 - accuracy: 0.9100 - val_loss: 0.1088 - val_accuracy: 0.9730\n",
      "Epoch 48/50\n",
      "16/16 [==============================] - 59s 4s/step - loss: 0.4450 - accuracy: 0.8023 - val_loss: 0.1547 - val_accuracy: 0.9459\n",
      "Epoch 49/50\n",
      "16/16 [==============================] - 59s 4s/step - loss: 0.2329 - accuracy: 0.9315 - val_loss: 0.1111 - val_accuracy: 1.0000\n",
      "Epoch 50/50\n",
      "16/16 [==============================] - 59s 4s/step - loss: 0.2553 - accuracy: 0.9002 - val_loss: 0.1550 - val_accuracy: 0.9730\n"
     ]
    }
   ],
   "source": [
    "# fit the model\n",
    "# Run the cell. It will take some time to execute\n",
    "r = model.fit_generator(\n",
    "  training_set,\n",
    "  validation_data=test_set,\n",
    "  epochs=50,\n",
    "  steps_per_epoch=len(training_set),\n",
    "  validation_steps=len(test_set)\n",
    ")"
   ]
  },
  {
   "cell_type": "code",
   "execution_count": 42,
   "metadata": {},
   "outputs": [
    {
     "data": {
      "text/plain": [
       "{'loss': [7.015007019042969,\n",
       "  3.2411556243896484,\n",
       "  1.609810471534729,\n",
       "  1.0142147541046143,\n",
       "  0.8594744801521301,\n",
       "  0.6768103241920471,\n",
       "  0.8177692890167236,\n",
       "  0.6431403160095215,\n",
       "  0.5735422372817993,\n",
       "  0.5605964064598083,\n",
       "  0.5614750385284424,\n",
       "  0.4744795262813568,\n",
       "  0.48096776008605957,\n",
       "  0.499077171087265,\n",
       "  0.46386879682540894,\n",
       "  0.4837878942489624,\n",
       "  0.6136612892150879,\n",
       "  0.8219000101089478,\n",
       "  0.6018136143684387,\n",
       "  0.3807554244995117,\n",
       "  0.4001126289367676,\n",
       "  0.39909622073173523,\n",
       "  0.3519579768180847,\n",
       "  0.3321286737918854,\n",
       "  0.381106436252594,\n",
       "  0.5630961060523987,\n",
       "  0.4562273323535919,\n",
       "  0.36175066232681274,\n",
       "  0.2896212041378021,\n",
       "  0.3697938919067383,\n",
       "  0.38481977581977844,\n",
       "  0.41089171171188354,\n",
       "  0.3151184022426605,\n",
       "  0.3107375502586365,\n",
       "  0.3467033803462982,\n",
       "  0.3902468681335449,\n",
       "  0.3609190285205841,\n",
       "  0.3740045130252838,\n",
       "  0.24729087948799133,\n",
       "  0.35296347737312317,\n",
       "  0.3620986342430115,\n",
       "  0.2466459721326828,\n",
       "  0.2858617901802063,\n",
       "  0.2872360646724701,\n",
       "  0.24449540674686432,\n",
       "  0.23513354361057281,\n",
       "  0.2560056149959564,\n",
       "  0.4450059235095978,\n",
       "  0.2329322248697281,\n",
       "  0.2553144097328186],\n",
       " 'accuracy': [0.37181997299194336,\n",
       "  0.37769079208374023,\n",
       "  0.43248531222343445,\n",
       "  0.5107632279396057,\n",
       "  0.645792543888092,\n",
       "  0.7221134901046753,\n",
       "  0.6594911813735962,\n",
       "  0.7358121275901794,\n",
       "  0.8023483157157898,\n",
       "  0.7632094025611877,\n",
       "  0.7553815841674805,\n",
       "  0.8317025303840637,\n",
       "  0.8297455906867981,\n",
       "  0.8101761341094971,\n",
       "  0.8258317112922668,\n",
       "  0.8180038928985596,\n",
       "  0.7084148526191711,\n",
       "  0.7064579129219055,\n",
       "  0.7299413084983826,\n",
       "  0.8610567450523376,\n",
       "  0.8532289862632751,\n",
       "  0.8630136847496033,\n",
       "  0.9021526575088501,\n",
       "  0.878669261932373,\n",
       "  0.8767123222351074,\n",
       "  0.7592955231666565,\n",
       "  0.7964774966239929,\n",
       "  0.8551859259605408,\n",
       "  0.8982387185096741,\n",
       "  0.8708415031433105,\n",
       "  0.8375734090805054,\n",
       "  0.8023483157157898,\n",
       "  0.878669261932373,\n",
       "  0.878669261932373,\n",
       "  0.8747553825378418,\n",
       "  0.8317025303840637,\n",
       "  0.8532289862632751,\n",
       "  0.8493150472640991,\n",
       "  0.927592933177948,\n",
       "  0.8630136847496033,\n",
       "  0.8551859259605408,\n",
       "  0.9236790537834167,\n",
       "  0.8904109597206116,\n",
       "  0.8982387185096741,\n",
       "  0.9236790537834167,\n",
       "  0.9236790537834167,\n",
       "  0.9099804162979126,\n",
       "  0.8023483157157898,\n",
       "  0.931506872177124,\n",
       "  0.9001957178115845],\n",
       " 'val_loss': [2.0990655422210693,\n",
       "  1.9411567449569702,\n",
       "  1.0954822301864624,\n",
       "  1.1076319217681885,\n",
       "  0.5441134572029114,\n",
       "  0.5360944271087646,\n",
       "  0.43207740783691406,\n",
       "  0.689609944820404,\n",
       "  0.4200369715690613,\n",
       "  0.402942955493927,\n",
       "  0.4212215542793274,\n",
       "  0.31122156977653503,\n",
       "  0.3583977222442627,\n",
       "  0.3882371783256531,\n",
       "  0.26823410391807556,\n",
       "  0.27452144026756287,\n",
       "  0.6421178579330444,\n",
       "  0.37860390543937683,\n",
       "  0.24037198722362518,\n",
       "  0.21231956779956818,\n",
       "  0.4761490821838379,\n",
       "  0.24066762626171112,\n",
       "  0.18336910009384155,\n",
       "  0.21427571773529053,\n",
       "  0.1881323754787445,\n",
       "  0.3551054298877716,\n",
       "  0.2521588206291199,\n",
       "  0.15665383636951447,\n",
       "  0.17057940363883972,\n",
       "  0.16153518855571747,\n",
       "  0.33384138345718384,\n",
       "  0.24861186742782593,\n",
       "  0.20901203155517578,\n",
       "  0.1482536792755127,\n",
       "  0.31539833545684814,\n",
       "  0.27941542863845825,\n",
       "  0.20582647621631622,\n",
       "  0.12700620293617249,\n",
       "  0.11588176339864731,\n",
       "  0.32454395294189453,\n",
       "  0.1344558298587799,\n",
       "  0.1628752201795578,\n",
       "  0.11320976167917252,\n",
       "  0.16728711128234863,\n",
       "  0.11341923475265503,\n",
       "  0.10802261531352997,\n",
       "  0.10879490524530411,\n",
       "  0.15465836226940155,\n",
       "  0.11110226064920425,\n",
       "  0.1549922525882721],\n",
       " 'val_accuracy': [0.3243243098258972,\n",
       "  0.6216216087341309,\n",
       "  0.4864864945411682,\n",
       "  0.45945945382118225,\n",
       "  0.837837815284729,\n",
       "  0.7837837934494019,\n",
       "  0.9189189076423645,\n",
       "  0.5405405163764954,\n",
       "  0.9189189076423645,\n",
       "  0.837837815284729,\n",
       "  0.8108108043670654,\n",
       "  0.9729729890823364,\n",
       "  0.9189189076423645,\n",
       "  0.9189189076423645,\n",
       "  0.9729729890823364,\n",
       "  0.8918918967247009,\n",
       "  0.8108108043670654,\n",
       "  0.8648648858070374,\n",
       "  0.9729729890823364,\n",
       "  0.9189189076423645,\n",
       "  0.8108108043670654,\n",
       "  0.9189189076423645,\n",
       "  0.9729729890823364,\n",
       "  0.9459459185600281,\n",
       "  0.9729729890823364,\n",
       "  0.8108108043670654,\n",
       "  0.8918918967247009,\n",
       "  0.9729729890823364,\n",
       "  0.9729729890823364,\n",
       "  1.0,\n",
       "  0.8918918967247009,\n",
       "  0.9189189076423645,\n",
       "  0.8918918967247009,\n",
       "  0.9729729890823364,\n",
       "  0.8108108043670654,\n",
       "  0.8108108043670654,\n",
       "  0.9189189076423645,\n",
       "  1.0,\n",
       "  0.9729729890823364,\n",
       "  0.837837815284729,\n",
       "  0.9729729890823364,\n",
       "  0.9189189076423645,\n",
       "  0.9729729890823364,\n",
       "  0.9189189076423645,\n",
       "  0.9729729890823364,\n",
       "  0.9729729890823364,\n",
       "  0.9729729890823364,\n",
       "  0.9459459185600281,\n",
       "  1.0,\n",
       "  0.9729729890823364]}"
      ]
     },
     "execution_count": 42,
     "metadata": {},
     "output_type": "execute_result"
    }
   ],
   "source": [
    "r.history"
   ]
  },
  {
   "cell_type": "code",
   "execution_count": 43,
   "metadata": {},
   "outputs": [
    {
     "data": {
      "image/png": "[encoded data removed]",
      "text/plain": [
       "<Figure size 432x288 with 1 Axes>"
      ]
     },
     "metadata": {
      "needs_background": "light"
     },
     "output_type": "display_data"
    },
    {
     "data": {
      "image/png": "[encoded data removed]",
      "text/plain": [
       "<Figure size 432x288 with 1 Axes>"
      ]
     },
     "metadata": {
      "needs_background": "light"
     },
     "output_type": "display_data"
    },
    {
     "data": {
      "text/plain": [
       "<Figure size 432x288 with 0 Axes>"
      ]
     },
     "metadata": {},
     "output_type": "display_data"
    }
   ],
   "source": [
    "# plot the loss\n",
    "plt.plot(r.history['loss'], label='train loss')\n",
    "plt.plot(r.history['val_loss'], label='val loss')\n",
    "plt.legend()\n",
    "plt.show()\n",
    "plt.savefig('LossVal_loss')\n",
    "\n",
    "# plot the accuracy\n",
    "plt.plot(r.history['accuracy'], label='train acc')\n",
    "plt.plot(r.history['val_accuracy'], label='val acc')\n",
    "plt.legend()\n",
    "plt.show()\n",
    "plt.savefig('AccVal_acc')"
   ]
  },
  {
   "cell_type": "code",
   "execution_count": 44,
   "metadata": {},
   "outputs": [],
   "source": [
    "# save it as a h5 file\n",
    "\n",
    "\n",
    "from tensorflow.keras.models import load_model\n",
    "\n",
    "model.save('model_resnet50.h5')"
   ]
  },
  {
   "cell_type": "code",
   "execution_count": null,
   "metadata": {},
   "outputs": [],
   "source": []
  },
  {
   "cell_type": "code",
   "execution_count": 45,
   "metadata": {},
   "outputs": [],
   "source": [
    "\n",
    "y_pred = model.predict(test_set)\n"
   ]
  },
  {
   "cell_type": "code",
   "execution_count": 46,
   "metadata": {},
   "outputs": [
    {
     "data": {
      "text/plain": [
       "array([[9.23960090e-01, 6.27789088e-03, 6.97619542e-02],\n",
       "       [8.90219398e-03, 9.59880054e-01, 3.12177557e-02],\n",
       "       [1.61567070e-02, 4.08069427e-05, 9.83802438e-01],\n",
       "       [9.58632350e-01, 1.72755762e-03, 3.96401100e-02],\n",
       "       [6.30823313e-04, 9.99005139e-01, 3.64071195e-04],\n",
       "       [3.00111622e-01, 5.42214394e-01, 1.57673940e-01],\n",
       "       [5.87674556e-03, 9.92273271e-01, 1.84986857e-03],\n",
       "       [1.87689245e-01, 7.37681389e-01, 7.46293962e-02],\n",
       "       [3.62052053e-01, 3.98187386e-03, 6.33966029e-01],\n",
       "       [5.56720328e-03, 9.94185507e-01, 2.47379445e-04],\n",
       "       [1.45750595e-02, 9.82338071e-01, 3.08688660e-03],\n",
       "       [8.55647251e-02, 1.00188379e-04, 9.14335132e-01],\n",
       "       [9.73771155e-01, 2.72319582e-03, 2.35056598e-02],\n",
       "       [2.23941237e-01, 7.66084254e-01, 9.97449458e-03],\n",
       "       [4.23269905e-02, 1.43688906e-03, 9.56236124e-01],\n",
       "       [2.27208659e-02, 9.60315347e-01, 1.69637445e-02],\n",
       "       [7.32151372e-03, 9.92544055e-01, 1.34420086e-04],\n",
       "       [1.86562967e-02, 3.09444949e-05, 9.81312752e-01],\n",
       "       [7.61464536e-02, 9.06794369e-01, 1.70592573e-02],\n",
       "       [9.98593390e-01, 1.00536190e-05, 1.39657059e-03],\n",
       "       [1.96318626e-02, 3.34709010e-04, 9.80033457e-01],\n",
       "       [9.96856213e-01, 1.50083515e-05, 3.12873721e-03],\n",
       "       [1.78742498e-01, 7.77231038e-01, 4.40265015e-02],\n",
       "       [6.96946159e-02, 3.67836491e-03, 9.26627040e-01],\n",
       "       [2.09010303e-01, 1.29479694e-03, 7.89694965e-01],\n",
       "       [9.77899432e-01, 1.07577248e-02, 1.13428310e-02],\n",
       "       [9.97433245e-01, 1.55827456e-05, 2.55123922e-03],\n",
       "       [1.64430931e-01, 8.12096775e-01, 2.34723687e-02],\n",
       "       [1.45679014e-02, 1.03409820e-05, 9.85421777e-01],\n",
       "       [6.93119541e-02, 9.23750520e-01, 6.93753688e-03],\n",
       "       [6.68204367e-01, 1.24834567e-01, 2.06961080e-01],\n",
       "       [8.40640366e-02, 1.05693369e-04, 9.15830314e-01],\n",
       "       [3.69445324e-01, 4.51182276e-01, 1.79372355e-01],\n",
       "       [9.51326191e-01, 1.81014072e-02, 3.05723399e-02],\n",
       "       [9.99626637e-01, 2.68646500e-06, 3.70592374e-04],\n",
       "       [2.74331737e-02, 1.94599816e-05, 9.72547352e-01],\n",
       "       [8.99137735e-01, 1.90306595e-03, 9.89592150e-02]], dtype=float32)"
      ]
     },
     "execution_count": 46,
     "metadata": {},
     "output_type": "execute_result"
    }
   ],
   "source": [
    "y_pred"
   ]
  },
  {
   "cell_type": "code",
   "execution_count": 47,
   "metadata": {},
   "outputs": [],
   "source": [
    "import numpy as np\n",
    "y_pred = np.argmax(y_pred, axis=1)"
   ]
  },
  {
   "cell_type": "code",
   "execution_count": 48,
   "metadata": {},
   "outputs": [
    {
     "data": {
      "text/plain": [
       "array([0, 1, 2, 0, 1, 1, 1, 1, 2, 1, 1, 2, 0, 1, 2, 1, 1, 2, 1, 0, 2, 0,\n",
       "       1, 2, 2, 0, 0, 1, 2, 1, 0, 2, 1, 0, 0, 2, 0], dtype=int64)"
      ]
     },
     "execution_count": 48,
     "metadata": {},
     "output_type": "execute_result"
    }
   ],
   "source": [
    "y_pred"
   ]
  },
  {
   "cell_type": "code",
   "execution_count": null,
   "metadata": {},
   "outputs": [],
   "source": []
  },
  {
   "cell_type": "code",
   "execution_count": 49,
   "metadata": {},
   "outputs": [],
   "source": [
    "from tensorflow.keras.models import load_model\n",
    "from tensorflow.keras.preprocessing import image"
   ]
  },
  {
   "cell_type": "code",
   "execution_count": 50,
   "metadata": {},
   "outputs": [],
   "source": [
    "model=load_model('model_resnet50.h5')"
   ]
  },
  {
   "cell_type": "code",
   "execution_count": null,
   "metadata": {},
   "outputs": [],
   "source": []
  },
  {
   "cell_type": "code",
   "execution_count": 73,
   "metadata": {},
   "outputs": [],
   "source": [
    "img=image.load_img('Datasets/Datasets/Test/Segmented Neutrophils/SNE_10863929.jpg',target_size=(224,224))\n",
    "\n"
   ]
  },
  {
   "cell_type": "code",
   "execution_count": 74,
   "metadata": {},
   "outputs": [
    {
     "data": {
      "text/plain": [
       "<module 'tensorflow.keras.preprocessing.image' from 'C:\\\\Users\\\\junnajamshed\\\\anaconda3\\\\lib\\\\site-packages\\\\keras\\\\api\\\\_v2\\\\keras\\\\preprocessing\\\\image\\\\__init__.py'>"
      ]
     },
     "execution_count": 74,
     "metadata": {},
     "output_type": "execute_result"
    }
   ],
   "source": [
    "image"
   ]
  },
  {
   "cell_type": "code",
   "execution_count": 75,
   "metadata": {},
   "outputs": [
    {
     "data": {
      "image/png": "[encoded data removed]",
      "text/plain": [
       "<PIL.Image.Image image mode=RGB size=224x224 at 0x1B5111BEBB0>"
      ]
     },
     "execution_count": 75,
     "metadata": {},
     "output_type": "execute_result"
    }
   ],
   "source": [
    "img"
   ]
  },
  {
   "cell_type": "code",
   "execution_count": 76,
   "metadata": {},
   "outputs": [
    {
     "data": {
      "text/plain": [
       "array([[[235., 197., 184.],\n",
       "        [214., 170., 167.],\n",
       "        [193., 140., 156.],\n",
       "        ...,\n",
       "        [250., 221., 203.],\n",
       "        [249., 220., 202.],\n",
       "        [248., 219., 201.]],\n",
       "\n",
       "       [[255., 227., 201.],\n",
       "        [244., 211., 194.],\n",
       "        [223., 184., 179.],\n",
       "        ...,\n",
       "        [250., 222., 201.],\n",
       "        [250., 222., 201.],\n",
       "        [249., 221., 200.]],\n",
       "\n",
       "       [[254., 232., 195.],\n",
       "        [255., 232., 198.],\n",
       "        [249., 223., 196.],\n",
       "        ...,\n",
       "        [251., 223., 201.],\n",
       "        [251., 223., 201.],\n",
       "        [249., 221., 199.]],\n",
       "\n",
       "       ...,\n",
       "\n",
       "       [[253., 227., 200.],\n",
       "        [254., 228., 201.],\n",
       "        [255., 229., 202.],\n",
       "        ...,\n",
       "        [254., 230., 204.],\n",
       "        [254., 230., 202.],\n",
       "        [254., 230., 202.]],\n",
       "\n",
       "       [[255., 230., 199.],\n",
       "        [255., 230., 200.],\n",
       "        [255., 229., 202.],\n",
       "        ...,\n",
       "        [255., 229., 204.],\n",
       "        [255., 229., 204.],\n",
       "        [255., 229., 204.]],\n",
       "\n",
       "       [[255., 230., 199.],\n",
       "        [255., 230., 200.],\n",
       "        [255., 229., 202.],\n",
       "        ...,\n",
       "        [255., 229., 204.],\n",
       "        [255., 229., 204.],\n",
       "        [255., 229., 204.]]], dtype=float32)"
      ]
     },
     "execution_count": 76,
     "metadata": {},
     "output_type": "execute_result"
    }
   ],
   "source": [
    "x=image.img_to_array(img)\n",
    "x"
   ]
  },
  {
   "cell_type": "code",
   "execution_count": null,
   "metadata": {},
   "outputs": [],
   "source": []
  },
  {
   "cell_type": "code",
   "execution_count": null,
   "metadata": {},
   "outputs": [],
   "source": []
  },
  {
   "cell_type": "code",
   "execution_count": 77,
   "metadata": {},
   "outputs": [
    {
     "data": {
      "text/plain": [
       "(224, 224, 3)"
      ]
     },
     "execution_count": 77,
     "metadata": {},
     "output_type": "execute_result"
    }
   ],
   "source": [
    "x.shape"
   ]
  },
  {
   "cell_type": "code",
   "execution_count": 78,
   "metadata": {},
   "outputs": [],
   "source": [
    "x=x/255"
   ]
  },
  {
   "cell_type": "code",
   "execution_count": 79,
   "metadata": {},
   "outputs": [
    {
     "data": {
      "text/plain": [
       "array([[[0.92156863, 0.77254903, 0.72156864],\n",
       "        [0.8392157 , 0.6666667 , 0.654902  ],\n",
       "        [0.75686276, 0.54901963, 0.6117647 ],\n",
       "        ...,\n",
       "        [0.98039216, 0.8666667 , 0.79607844],\n",
       "        [0.9764706 , 0.8627451 , 0.7921569 ],\n",
       "        [0.972549  , 0.85882354, 0.7882353 ]],\n",
       "\n",
       "       [[1.        , 0.8901961 , 0.7882353 ],\n",
       "        [0.95686275, 0.827451  , 0.7607843 ],\n",
       "        [0.8745098 , 0.72156864, 0.7019608 ],\n",
       "        ...,\n",
       "        [0.98039216, 0.87058824, 0.7882353 ],\n",
       "        [0.98039216, 0.87058824, 0.7882353 ],\n",
       "        [0.9764706 , 0.8666667 , 0.78431374]],\n",
       "\n",
       "       [[0.99607843, 0.9098039 , 0.7647059 ],\n",
       "        [1.        , 0.9098039 , 0.7764706 ],\n",
       "        [0.9764706 , 0.8745098 , 0.76862746],\n",
       "        ...,\n",
       "        [0.9843137 , 0.8745098 , 0.7882353 ],\n",
       "        [0.9843137 , 0.8745098 , 0.7882353 ],\n",
       "        [0.9764706 , 0.8666667 , 0.78039217]],\n",
       "\n",
       "       ...,\n",
       "\n",
       "       [[0.99215686, 0.8901961 , 0.78431374],\n",
       "        [0.99607843, 0.89411765, 0.7882353 ],\n",
       "        [1.        , 0.8980392 , 0.7921569 ],\n",
       "        ...,\n",
       "        [0.99607843, 0.9019608 , 0.8       ],\n",
       "        [0.99607843, 0.9019608 , 0.7921569 ],\n",
       "        [0.99607843, 0.9019608 , 0.7921569 ]],\n",
       "\n",
       "       [[1.        , 0.9019608 , 0.78039217],\n",
       "        [1.        , 0.9019608 , 0.78431374],\n",
       "        [1.        , 0.8980392 , 0.7921569 ],\n",
       "        ...,\n",
       "        [1.        , 0.8980392 , 0.8       ],\n",
       "        [1.        , 0.8980392 , 0.8       ],\n",
       "        [1.        , 0.8980392 , 0.8       ]],\n",
       "\n",
       "       [[1.        , 0.9019608 , 0.78039217],\n",
       "        [1.        , 0.9019608 , 0.78431374],\n",
       "        [1.        , 0.8980392 , 0.7921569 ],\n",
       "        ...,\n",
       "        [1.        , 0.8980392 , 0.8       ],\n",
       "        [1.        , 0.8980392 , 0.8       ],\n",
       "        [1.        , 0.8980392 , 0.8       ]]], dtype=float32)"
      ]
     },
     "execution_count": 79,
     "metadata": {},
     "output_type": "execute_result"
    }
   ],
   "source": [
    "x"
   ]
  },
  {
   "cell_type": "code",
   "execution_count": 80,
   "metadata": {},
   "outputs": [
    {
     "data": {
      "text/plain": [
       "(1, 224, 224, 3)"
      ]
     },
     "execution_count": 80,
     "metadata": {},
     "output_type": "execute_result"
    }
   ],
   "source": [
    "x=np.expand_dims(x,axis=0)\n",
    "img_data=preprocess_input(x)\n",
    "img_data.shape"
   ]
  },
  {
   "cell_type": "code",
   "execution_count": 81,
   "metadata": {},
   "outputs": [
    {
     "data": {
      "text/plain": [
       "array([[1.2839345e-05, 9.9995458e-01, 3.2532727e-05]], dtype=float32)"
      ]
     },
     "execution_count": 81,
     "metadata": {},
     "output_type": "execute_result"
    }
   ],
   "source": [
    "model.predict(img_data)"
   ]
  },
  {
   "cell_type": "code",
   "execution_count": 82,
   "metadata": {},
   "outputs": [],
   "source": [
    "a=np.argmax(model.predict(img_data), axis=1)"
   ]
  },
  {
   "cell_type": "code",
   "execution_count": 83,
   "metadata": {},
   "outputs": [
    {
     "data": {
      "text/plain": [
       "array([1], dtype=int64)"
      ]
     },
     "execution_count": 83,
     "metadata": {},
     "output_type": "execute_result"
    }
   ],
   "source": [
    "a"
   ]
  },
  {
   "cell_type": "code",
   "execution_count": null,
   "metadata": {},
   "outputs": [],
   "source": []
  },
  {
   "cell_type": "code",
   "execution_count": null,
   "metadata": {},
   "outputs": [],
   "source": []
  },
  {
   "cell_type": "code",
   "execution_count": null,
   "metadata": {},
   "outputs": [],
   "source": []
  }
 ],
 "metadata": {
  "kernelspec": {
   "display_name": "Python 3",
   "language": "python",
   "name": "python3"
  },
  "language_info": {
   "codemirror_mode": {
    "name": "ipython",
    "version": 3
   },
   "file_extension": ".py",
   "mimetype": "text/x-python",
   "name": "python",
   "nbconvert_exporter": "python",
   "pygments_lexer": "ipython3",
   "version": "3.8.3"
  }
 },
 "nbformat": 4,
 "nbformat_minor": 2
}
